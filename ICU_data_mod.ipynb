{
 "cells": [
  {
   "cell_type": "code",
   "execution_count": 2,
   "id": "8f70c88f",
   "metadata": {},
   "outputs": [],
   "source": [
    "#Don't run this file again\n",
    "import pandas as pd\n",
    "import glob\n",
    "#hosptial data :https://healthdata.gov/Hospital/COVID-19-Reported-Patient-Impact-and-Hospital-Capa/anag-cw7u\n",
    "hosp = dict()\n",
    "files = glob.glob(\"Reported_Patient/*.csv\")\n",
    "for x in files:\n",
    "    df = pd.read_csv(x)\n",
    "    df = df.rename(columns={\"collection_week\": \"Date\"})\n",
    "    df = df.drop(columns=df.columns[0])\n",
    "    hosp[x[17:19]] = df"
   ]
  },
  {
   "cell_type": "code",
   "execution_count": 3,
   "id": "cc8fe523",
   "metadata": {},
   "outputs": [],
   "source": [
    "\n",
    "for x in hosp.keys():\n",
    "    hosp[x][\"Date\"] = hosp[x][\"Date\"].apply(pd.to_datetime)\n",
    "    hosp[x][\"Date\"] = hosp[x][\"Date\"].dt.strftime('%Y-%m-%d')"
   ]
  },
  {
   "cell_type": "code",
   "execution_count": 6,
   "id": "66bca660",
   "metadata": {},
   "outputs": [],
   "source": []
  },
  {
   "cell_type": "code",
   "execution_count": 8,
   "id": "15231d2e",
   "metadata": {},
   "outputs": [],
   "source": [
    "for x in hosp.keys():\n",
    "    string = x + '.csv'\n",
    "    hosp[x].to_csv(string, index=False)"
   ]
  },
  {
   "cell_type": "code",
   "execution_count": null,
   "id": "59f624e1",
   "metadata": {},
   "outputs": [],
   "source": []
  }
 ],
 "metadata": {
  "kernelspec": {
   "display_name": "Python 3",
   "language": "python",
   "name": "python3"
  },
  "language_info": {
   "codemirror_mode": {
    "name": "ipython",
    "version": 3
   },
   "file_extension": ".py",
   "mimetype": "text/x-python",
   "name": "python",
   "nbconvert_exporter": "python",
   "pygments_lexer": "ipython3",
   "version": "3.8.8"
  }
 },
 "nbformat": 4,
 "nbformat_minor": 5
}
